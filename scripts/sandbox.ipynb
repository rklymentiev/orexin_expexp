{
 "cells": [
  {
   "cell_type": "code",
   "execution_count": 1,
   "metadata": {
    "collapsed": true
   },
   "outputs": [],
   "source": [
    "import os\n",
    "import pandas as pd\n",
    "# import numpy as np\n",
    "from tqdm import tqdm\n",
    "from datetime import datetime, timedelta"
   ]
  },
  {
   "cell_type": "code",
   "execution_count": 2,
   "outputs": [
    {
     "name": "stderr",
     "output_type": "stream",
     "text": [
      "/home/ruslan/anaconda3/envs/streamlit/lib/python3.7/site-packages/IPython/core/interactiveshell.py:3444: DtypeWarning: Columns (0,5) have mixed types.Specify dtype option on import or set low_memory=False.\n",
      "  exec(code_obj, self.user_global_ns, self.user_ns)\n"
     ]
    },
    {
     "data": {
      "text/plain": "         DateTime     IdRFID IdLabel unitLabel  eventDuration sense1duration  \\\n0      #ID-Device  Sorter1.1       0         0            0.0         Sorter   \n1      #ID-Device  Sorter1.2       0         0            0.0         Sorter   \n2      #ID-Device  Sorter1.3       0         0            0.0         Sorter   \n3         #Sorter    Sorter1     NaN       NaN            NaN            NaN   \n4  #RfidCondition   CondMod1     NaN       NaN            NaN            NaN   \n\n   sense1Events  senseRFIDrecords  reinforce1value  reinforce1Total  \\\n0           NaN               NaN              NaN              NaN   \n1           NaN               NaN              NaN              NaN   \n2           NaN               NaN              NaN              NaN   \n3           NaN               NaN              NaN              NaN   \n4           NaN               NaN              NaN              NaN   \n\n   reinforce1Account outFuncLabel outLabel SystemMsg MsgValue1 MsgValue2  \\\n0                NaN          NaN      NaN       NaN       NaN       NaN   \n1                NaN          NaN      NaN       NaN       NaN       NaN   \n2                NaN          NaN      NaN       NaN       NaN       NaN   \n3                NaN          NaN      NaN       NaN       NaN       NaN   \n4                NaN          NaN      NaN       NaN       NaN       NaN   \n\n  MsgValue3  \n0       NaN  \n1       NaN  \n2       NaN  \n3       NaN  \n4       NaN  ",
      "text/html": "<div>\n<style scoped>\n    .dataframe tbody tr th:only-of-type {\n        vertical-align: middle;\n    }\n\n    .dataframe tbody tr th {\n        vertical-align: top;\n    }\n\n    .dataframe thead th {\n        text-align: right;\n    }\n</style>\n<table border=\"1\" class=\"dataframe\">\n  <thead>\n    <tr style=\"text-align: right;\">\n      <th></th>\n      <th>DateTime</th>\n      <th>IdRFID</th>\n      <th>IdLabel</th>\n      <th>unitLabel</th>\n      <th>eventDuration</th>\n      <th>sense1duration</th>\n      <th>sense1Events</th>\n      <th>senseRFIDrecords</th>\n      <th>reinforce1value</th>\n      <th>reinforce1Total</th>\n      <th>reinforce1Account</th>\n      <th>outFuncLabel</th>\n      <th>outLabel</th>\n      <th>SystemMsg</th>\n      <th>MsgValue1</th>\n      <th>MsgValue2</th>\n      <th>MsgValue3</th>\n    </tr>\n  </thead>\n  <tbody>\n    <tr>\n      <th>0</th>\n      <td>#ID-Device</td>\n      <td>Sorter1.1</td>\n      <td>0</td>\n      <td>0</td>\n      <td>0.0</td>\n      <td>Sorter</td>\n      <td>NaN</td>\n      <td>NaN</td>\n      <td>NaN</td>\n      <td>NaN</td>\n      <td>NaN</td>\n      <td>NaN</td>\n      <td>NaN</td>\n      <td>NaN</td>\n      <td>NaN</td>\n      <td>NaN</td>\n      <td>NaN</td>\n    </tr>\n    <tr>\n      <th>1</th>\n      <td>#ID-Device</td>\n      <td>Sorter1.2</td>\n      <td>0</td>\n      <td>0</td>\n      <td>0.0</td>\n      <td>Sorter</td>\n      <td>NaN</td>\n      <td>NaN</td>\n      <td>NaN</td>\n      <td>NaN</td>\n      <td>NaN</td>\n      <td>NaN</td>\n      <td>NaN</td>\n      <td>NaN</td>\n      <td>NaN</td>\n      <td>NaN</td>\n      <td>NaN</td>\n    </tr>\n    <tr>\n      <th>2</th>\n      <td>#ID-Device</td>\n      <td>Sorter1.3</td>\n      <td>0</td>\n      <td>0</td>\n      <td>0.0</td>\n      <td>Sorter</td>\n      <td>NaN</td>\n      <td>NaN</td>\n      <td>NaN</td>\n      <td>NaN</td>\n      <td>NaN</td>\n      <td>NaN</td>\n      <td>NaN</td>\n      <td>NaN</td>\n      <td>NaN</td>\n      <td>NaN</td>\n      <td>NaN</td>\n    </tr>\n    <tr>\n      <th>3</th>\n      <td>#Sorter</td>\n      <td>Sorter1</td>\n      <td>NaN</td>\n      <td>NaN</td>\n      <td>NaN</td>\n      <td>NaN</td>\n      <td>NaN</td>\n      <td>NaN</td>\n      <td>NaN</td>\n      <td>NaN</td>\n      <td>NaN</td>\n      <td>NaN</td>\n      <td>NaN</td>\n      <td>NaN</td>\n      <td>NaN</td>\n      <td>NaN</td>\n      <td>NaN</td>\n    </tr>\n    <tr>\n      <th>4</th>\n      <td>#RfidCondition</td>\n      <td>CondMod1</td>\n      <td>NaN</td>\n      <td>NaN</td>\n      <td>NaN</td>\n      <td>NaN</td>\n      <td>NaN</td>\n      <td>NaN</td>\n      <td>NaN</td>\n      <td>NaN</td>\n      <td>NaN</td>\n      <td>NaN</td>\n      <td>NaN</td>\n      <td>NaN</td>\n      <td>NaN</td>\n      <td>NaN</td>\n      <td>NaN</td>\n    </tr>\n  </tbody>\n</table>\n</div>"
     },
     "execution_count": 2,
     "metadata": {},
     "output_type": "execute_result"
    }
   ],
   "source": [
    "input_df = pd.read_csv(\n",
    "    '../data/b1-b9/MAB_b1-b9-22.02.17.csv',\n",
    "    encoding=\"utf_16\",\n",
    "    sep=';'\n",
    ")\n",
    "input_df.head()"
   ],
   "metadata": {
    "collapsed": false,
    "pycharm": {
     "name": "#%%\n"
    }
   }
  },
  {
   "cell_type": "code",
   "execution_count": 3,
   "outputs": [],
   "source": [
    "def initial_cleaning(input_df):\n",
    "    # sort the values since for some reason observations sometimes mixed in time\n",
    "    input_df['DateTime'] = input_df['DateTime'].astype(float)\n",
    "    input_df.sort_values(by='DateTime', inplace=True)\n",
    "    input_df.reset_index(drop=True, inplace=True)\n",
    "\n",
    "    # some datetime manipulations\n",
    "    input_df['Timestamp'] = input_df['DateTime'].apply(lambda x: datetime.timestamp(from_ordinal(x)))\n",
    "    input_df['DateTime'] = input_df['Timestamp'].apply(lambda x: datetime.fromtimestamp(x))\n",
    "\n",
    "    return input_df\n",
    "\n",
    "\n",
    "def from_ordinal(ordinal, _epoch=datetime(1899, 12, 30)):\n",
    "    \"\"\"Converts serial date-time to DateTime object.\n",
    "\n",
    "    Parameters\n",
    "    ----------\n",
    "    ordinal : float or int\n",
    "        Original serial date-time.\n",
    "    _epoch : datetime\n",
    "        Start of the count.\n",
    "        NOTE: for some reason timestamp is shifted by 2 days\n",
    "        backwards from 01-01-1900, that is why default value\n",
    "        is set to 30-12-1899.\n",
    "    \"\"\"\n",
    "    return _epoch + timedelta(days=ordinal)"
   ],
   "metadata": {
    "collapsed": false,
    "pycharm": {
     "name": "#%%\n"
    }
   }
  },
  {
   "cell_type": "code",
   "execution_count": 4,
   "outputs": [],
   "source": [
    "input_df = input_df[~input_df['DateTime'].astype(str).apply(lambda x: x.startswith('#'))]"
   ],
   "metadata": {
    "collapsed": false,
    "pycharm": {
     "name": "#%%\n"
    }
   }
  },
  {
   "cell_type": "code",
   "execution_count": 5,
   "outputs": [],
   "source": [
    "input_df = initial_cleaning(input_df)"
   ],
   "metadata": {
    "collapsed": false,
    "pycharm": {
     "name": "#%%\n"
    }
   }
  },
  {
   "cell_type": "code",
   "execution_count": 6,
   "outputs": [
    {
     "data": {
      "text/plain": "{'b3': '041A716DCB',\n 'b6': '041A7170BD',\n 'b5': '041A71651C',\n 'b2': '041A716801',\n 'b7': '041A71679E',\n 'b8': '041A717072',\n 'b1': '041A71679D',\n 'b9': '041A716804',\n 'b4': '041A716CB6'}"
     },
     "execution_count": 6,
     "metadata": {},
     "output_type": "execute_result"
    }
   ],
   "source": [
    "ids = input_df['IdLabel'][~input_df['IdLabel'].isnull()].unique()\n",
    "ids.sort()\n",
    "ids_dict = dict(input_df[['IdLabel','IdRFID']].drop_duplicates().dropna().values)\n",
    "ids_dict"
   ],
   "metadata": {
    "collapsed": false,
    "pycharm": {
     "name": "#%%\n"
    }
   }
  },
  {
   "cell_type": "code",
   "execution_count": 7,
   "outputs": [],
   "source": [
    "# subj_data['MsgValue1'][cndtn]\\\n",
    "#     .reset_index(drop=True)\\\n",
    "#     .apply(lambda x: x.split('=')[1])"
   ],
   "metadata": {
    "collapsed": false,
    "pycharm": {
     "name": "#%%\n"
    }
   }
  },
  {
   "cell_type": "code",
   "execution_count": 12,
   "outputs": [
    {
     "name": "stderr",
     "output_type": "stream",
     "text": [
      "100%|██████████| 9/9 [00:01<00:00,  4.67it/s]\n"
     ]
    }
   ],
   "source": [
    "# input_df = initial_cleaning(input_df)\n",
    "\n",
    "ids = input_df['IdLabel'][~input_df['IdLabel'].isnull()].unique()\n",
    "ids.sort()\n",
    "ids_dict = dict(input_df[['IdLabel', 'IdRFID']].drop_duplicates().dropna().values)\n",
    "\n",
    "final_output = pd.DataFrame({})\n",
    "\n",
    "for animal_id in tqdm(ids):\n",
    "    # print(animal_id)\n",
    "    indices_start = input_df[(input_df['IdLabel'] == animal_id) & (input_df['SystemMsg'] == 'start exp')].index\n",
    "    indices_end = input_df[(input_df['IdLabel'] == animal_id) & (input_df['SystemMsg'] == 'end exp')].index\n",
    "\n",
    "    for session_i in range(len(indices_start)):\n",
    "        ind_start = indices_start[session_i]\n",
    "        ind_end = indices_end[session_i]\n",
    "        subj_data = input_df.iloc[ind_start:ind_end+1, :].reset_index(drop=True)\n",
    "\n",
    "        cndtn = subj_data['SystemMsg'].apply(\n",
    "            lambda x: x.startswith('start trial') if type(x) == str else False)\n",
    "        total_trials = subj_data['SystemMsg'][cndtn].apply(lambda x: int(x.split(' ')[2])).max()\n",
    "        total_outcomes = (subj_data['SystemMsg'] == 'Reward?').sum()\n",
    "\n",
    "        wait_poke_ts = subj_data['Timestamp'][subj_data['SystemMsg'] == 'wait poke']\\\n",
    "            .reset_index(drop=True)\n",
    "\n",
    "        trial_start_ts = subj_data['Timestamp'][cndtn]\\\n",
    "            .reset_index(drop=True)\n",
    "        trial_start_ts.name = 'trialStart'\n",
    "\n",
    "        trial_end_ts = subj_data['Timestamp'][subj_data['SystemMsg'] == 'start iti']\\\n",
    "            .reset_index(drop=True)\n",
    "        if len(trial_start_ts) != len(trial_end_ts):\n",
    "            trial_end_ts = trial_end_ts.append(\n",
    "                pd.Series(\n",
    "                    subj_data['Timestamp'][subj_data['SystemMsg'] == 'end exp']\n",
    "                ),\n",
    "                ignore_index=True)\n",
    "        trial_end_ts.name = 'trialEnd'\n",
    "\n",
    "        if len(wait_poke_ts) != len(trial_start_ts):\n",
    "            wait_poke_ts = wait_poke_ts[:len(wait_poke_ts)-1]\n",
    "\n",
    "        start_latency = trial_start_ts - wait_poke_ts\n",
    "        start_latency.name = 'startLatency'\n",
    "\n",
    "        trial_duration = trial_end_ts - trial_start_ts\n",
    "        trial_duration.name = 'trialDuration'\n",
    "\n",
    "        decision = subj_data['MsgValue1'][subj_data['SystemMsg'] == 'decision:']\\\n",
    "            .reset_index(drop=True)\n",
    "        decision_n = decision.apply(lambda x: x.split(' ')[1])\n",
    "        decision_n.name = 'decisionNumber'\n",
    "        decision_pos = decision.apply(lambda x: x.split(' ')[2][2])\n",
    "        decision_pos.name = 'decisionPosition'\n",
    "        decision_img = decision.apply(lambda x: x.split(' ')[2][4])\n",
    "        decision_img.name = 'decisionImage'\n",
    "\n",
    "        decision_ts = subj_data['Timestamp'][subj_data['SystemMsg'] == 'decision:']\\\n",
    "            .reset_index(drop=True)\n",
    "        decision_latency = decision_ts - trial_start_ts\n",
    "        decision_latency.name = 'decisionLatency'\n",
    "\n",
    "        reward = subj_data['MsgValue1'][subj_data['SystemMsg'] == 'Reward?']\\\n",
    "            .reset_index(drop=True)\n",
    "        reward.name = 'reward'\n",
    "        reward = reward == 'True'\n",
    "\n",
    "        reward_ready_ts = subj_data['Timestamp'][subj_data['SystemMsg'] == 'reward ready']\\\n",
    "            .reset_index(drop=True)\n",
    "\n",
    "        reward_collected_ts = subj_data['Timestamp'][subj_data['SystemMsg'] == 'reward collected']\\\n",
    "            .reset_index(drop=True)\n",
    "\n",
    "        reward_latency = reward_collected_ts - reward_ready_ts\n",
    "        reward_latency.index = reward[reward == True].index\n",
    "        reward_latency.name = 'rewardLatency'\n",
    "\n",
    "        p1 = subj_data['MsgValue1'][cndtn]\\\n",
    "            .reset_index(drop=True)\\\n",
    "            .apply(lambda x: x.split('=')[1])\n",
    "        p1.name = 'P1'\n",
    "\n",
    "        p2 = subj_data['MsgValue2'][cndtn]\\\n",
    "            .reset_index(drop=True)\\\n",
    "            .apply(lambda x: x.split('=')[1])\n",
    "        p2.name = 'P2'\n",
    "\n",
    "        p3 = subj_data['MsgValue3'][cndtn]\\\n",
    "            .reset_index(drop=True)\\\n",
    "            .apply(lambda x: x.split('=')[1])\n",
    "        p3.name = 'P3'\n",
    "\n",
    "        opt1 = subj_data['MsgValue1'][cndtn]\\\n",
    "            .reset_index(drop=True)\\\n",
    "            .apply(lambda x: x.split(' ')[2])\n",
    "        opt1.name = 'Option1'\n",
    "\n",
    "        opt2 = subj_data['MsgValue2'][cndtn]\\\n",
    "            .reset_index(drop=True)\\\n",
    "            .apply(lambda x: x.split(' ')[2])\n",
    "        opt2.name = 'Option2'\n",
    "\n",
    "        opt3 = subj_data['MsgValue3'][cndtn]\\\n",
    "            .reset_index(drop=True)\\\n",
    "            .apply(lambda x: x.split(' ')[2])\n",
    "        opt3.name = 'Option3'\n",
    "\n",
    "        session_out = pd.concat(\n",
    "            [trial_start_ts, trial_end_ts, trial_duration, start_latency, opt1, opt2, opt3,\n",
    "             p1, p2, p3, decision_n, decision_pos, decision_img, decision_latency, reward],\n",
    "            axis=1)\n",
    "        session_out = session_out.join(reward_latency)\n",
    "\n",
    "        if total_trials != total_outcomes:\n",
    "            session_out = session_out.iloc[:total_trials-1, :]\n",
    "\n",
    "        session_out['trial'] = session_out.index + 1\n",
    "        session_out['animalID'] = animal_id\n",
    "        session_out['session'] = session_i + 1\n",
    "        session_out['scenario'] = subj_data['MsgValue2'][0]\n",
    "\n",
    "        final_output = final_output.append(session_out).reset_index(drop=True)"
   ],
   "metadata": {
    "collapsed": false,
    "pycharm": {
     "name": "#%%\n"
    }
   }
  },
  {
   "cell_type": "code",
   "execution_count": 13,
   "outputs": [],
   "source": [
    "final_output = final_output[[\n",
    "    'animalID', 'session', 'scenario','trial', 'trialStart', 'trialEnd', 'trialDuration',\n",
    "    'startLatency', 'Option1', 'Option2', 'Option3', 'P1', 'P2', 'P3', 'decisionNumber', 'decisionPosition', 'decisionImage', 'decisionLatency', 'reward', 'rewardLatency'\n",
    "]]"
   ],
   "metadata": {
    "collapsed": false,
    "pycharm": {
     "name": "#%%\n"
    }
   }
  },
  {
   "cell_type": "code",
   "execution_count": 14,
   "outputs": [
    {
     "data": {
      "text/plain": "     animalID  session    scenario  trial    trialStart      trialEnd  \\\n0          b1        1  Scenario 1      1  1.645121e+09  1.645121e+09   \n1          b1        1  Scenario 1      2  1.645121e+09  1.645121e+09   \n2          b1        1  Scenario 1      3  1.645121e+09  1.645121e+09   \n3          b1        1  Scenario 1      4  1.645121e+09  1.645121e+09   \n4          b1        1  Scenario 1      5  1.645121e+09  1.645121e+09   \n...       ...      ...         ...    ...           ...           ...   \n3200       b9        2  Scenario 1     96  1.645153e+09  1.645153e+09   \n3201       b9        2  Scenario 1     97  1.645153e+09  1.645153e+09   \n3202       b9        2  Scenario 1     98  1.645153e+09  1.645153e+09   \n3203       b9        2  Scenario 1     99  1.645153e+09  1.645153e+09   \n3204       b9        2  Scenario 1    100  1.645153e+09  1.645153e+09   \n\n      trialDuration  startLatency Option1 Option2 Option3     P1      P2  \\\n0         13.969004     12.247002   @P2_4   @P1_6   @P3_5  0.875  0.0625   \n1          2.385002      4.266994   @P2_4   @P1_6   @P3_5  0.875  0.0625   \n2         10.181004      0.823996   @P2_4   @P1_6   @P3_5  0.875  0.0625   \n3          7.044002      0.787994   @P2_4   @P1_6   @P3_5  0.875  0.0625   \n4          3.412005      3.425000   @P2_4   @P1_6   @P3_5  0.875  0.0625   \n...             ...           ...     ...     ...     ...    ...     ...   \n3200      17.358002      0.002005   @P2_6   @P3_5   @P1_4  0.875  0.0625   \n3201       3.070993      2.236006   @P2_6   @P3_5   @P1_4  0.875  0.0625   \n3202      11.091004      6.118001   @P2_6   @P3_5   @P1_4  0.875  0.0625   \n3203       9.316002      0.001996   @P2_6   @P3_5   @P1_4  0.875  0.0625   \n3204       2.890996      0.139001   @P2_6   @P3_5   @P1_4  0.875  0.0625   \n\n          P3 decisionNumber decisionPosition decisionImage  decisionLatency  \\\n0     0.0625              1                2             4         6.725997   \n1     0.0625              3                3             5         2.380000   \n2     0.0625              1                2             4         3.149004   \n3     0.0625              2                1             6         7.039000   \n4     0.0625              2                1             6         3.410001   \n...      ...            ...              ...           ...              ...   \n3200  0.0625              1                2             6        10.454996   \n3201  0.0625              2                3             5         3.068998   \n3202  0.0625              1                2             6         4.379003   \n3203  0.0625              1                2             6         2.635001   \n3204  0.0625              1                2             6         2.887998   \n\n     reward  rewardLatency  \n0      True       2.237993  \n1     False            NaN  \n2      True       2.028006  \n3     False            NaN  \n4     False            NaN  \n...     ...            ...  \n3200   True       1.899003  \n3201  False            NaN  \n3202   True       1.709000  \n3203   True       1.678994  \n3204  False            NaN  \n\n[3205 rows x 20 columns]",
      "text/html": "<div>\n<style scoped>\n    .dataframe tbody tr th:only-of-type {\n        vertical-align: middle;\n    }\n\n    .dataframe tbody tr th {\n        vertical-align: top;\n    }\n\n    .dataframe thead th {\n        text-align: right;\n    }\n</style>\n<table border=\"1\" class=\"dataframe\">\n  <thead>\n    <tr style=\"text-align: right;\">\n      <th></th>\n      <th>animalID</th>\n      <th>session</th>\n      <th>scenario</th>\n      <th>trial</th>\n      <th>trialStart</th>\n      <th>trialEnd</th>\n      <th>trialDuration</th>\n      <th>startLatency</th>\n      <th>Option1</th>\n      <th>Option2</th>\n      <th>Option3</th>\n      <th>P1</th>\n      <th>P2</th>\n      <th>P3</th>\n      <th>decisionNumber</th>\n      <th>decisionPosition</th>\n      <th>decisionImage</th>\n      <th>decisionLatency</th>\n      <th>reward</th>\n      <th>rewardLatency</th>\n    </tr>\n  </thead>\n  <tbody>\n    <tr>\n      <th>0</th>\n      <td>b1</td>\n      <td>1</td>\n      <td>Scenario 1</td>\n      <td>1</td>\n      <td>1.645121e+09</td>\n      <td>1.645121e+09</td>\n      <td>13.969004</td>\n      <td>12.247002</td>\n      <td>@P2_4</td>\n      <td>@P1_6</td>\n      <td>@P3_5</td>\n      <td>0.875</td>\n      <td>0.0625</td>\n      <td>0.0625</td>\n      <td>1</td>\n      <td>2</td>\n      <td>4</td>\n      <td>6.725997</td>\n      <td>True</td>\n      <td>2.237993</td>\n    </tr>\n    <tr>\n      <th>1</th>\n      <td>b1</td>\n      <td>1</td>\n      <td>Scenario 1</td>\n      <td>2</td>\n      <td>1.645121e+09</td>\n      <td>1.645121e+09</td>\n      <td>2.385002</td>\n      <td>4.266994</td>\n      <td>@P2_4</td>\n      <td>@P1_6</td>\n      <td>@P3_5</td>\n      <td>0.875</td>\n      <td>0.0625</td>\n      <td>0.0625</td>\n      <td>3</td>\n      <td>3</td>\n      <td>5</td>\n      <td>2.380000</td>\n      <td>False</td>\n      <td>NaN</td>\n    </tr>\n    <tr>\n      <th>2</th>\n      <td>b1</td>\n      <td>1</td>\n      <td>Scenario 1</td>\n      <td>3</td>\n      <td>1.645121e+09</td>\n      <td>1.645121e+09</td>\n      <td>10.181004</td>\n      <td>0.823996</td>\n      <td>@P2_4</td>\n      <td>@P1_6</td>\n      <td>@P3_5</td>\n      <td>0.875</td>\n      <td>0.0625</td>\n      <td>0.0625</td>\n      <td>1</td>\n      <td>2</td>\n      <td>4</td>\n      <td>3.149004</td>\n      <td>True</td>\n      <td>2.028006</td>\n    </tr>\n    <tr>\n      <th>3</th>\n      <td>b1</td>\n      <td>1</td>\n      <td>Scenario 1</td>\n      <td>4</td>\n      <td>1.645121e+09</td>\n      <td>1.645121e+09</td>\n      <td>7.044002</td>\n      <td>0.787994</td>\n      <td>@P2_4</td>\n      <td>@P1_6</td>\n      <td>@P3_5</td>\n      <td>0.875</td>\n      <td>0.0625</td>\n      <td>0.0625</td>\n      <td>2</td>\n      <td>1</td>\n      <td>6</td>\n      <td>7.039000</td>\n      <td>False</td>\n      <td>NaN</td>\n    </tr>\n    <tr>\n      <th>4</th>\n      <td>b1</td>\n      <td>1</td>\n      <td>Scenario 1</td>\n      <td>5</td>\n      <td>1.645121e+09</td>\n      <td>1.645121e+09</td>\n      <td>3.412005</td>\n      <td>3.425000</td>\n      <td>@P2_4</td>\n      <td>@P1_6</td>\n      <td>@P3_5</td>\n      <td>0.875</td>\n      <td>0.0625</td>\n      <td>0.0625</td>\n      <td>2</td>\n      <td>1</td>\n      <td>6</td>\n      <td>3.410001</td>\n      <td>False</td>\n      <td>NaN</td>\n    </tr>\n    <tr>\n      <th>...</th>\n      <td>...</td>\n      <td>...</td>\n      <td>...</td>\n      <td>...</td>\n      <td>...</td>\n      <td>...</td>\n      <td>...</td>\n      <td>...</td>\n      <td>...</td>\n      <td>...</td>\n      <td>...</td>\n      <td>...</td>\n      <td>...</td>\n      <td>...</td>\n      <td>...</td>\n      <td>...</td>\n      <td>...</td>\n      <td>...</td>\n      <td>...</td>\n      <td>...</td>\n    </tr>\n    <tr>\n      <th>3200</th>\n      <td>b9</td>\n      <td>2</td>\n      <td>Scenario 1</td>\n      <td>96</td>\n      <td>1.645153e+09</td>\n      <td>1.645153e+09</td>\n      <td>17.358002</td>\n      <td>0.002005</td>\n      <td>@P2_6</td>\n      <td>@P3_5</td>\n      <td>@P1_4</td>\n      <td>0.875</td>\n      <td>0.0625</td>\n      <td>0.0625</td>\n      <td>1</td>\n      <td>2</td>\n      <td>6</td>\n      <td>10.454996</td>\n      <td>True</td>\n      <td>1.899003</td>\n    </tr>\n    <tr>\n      <th>3201</th>\n      <td>b9</td>\n      <td>2</td>\n      <td>Scenario 1</td>\n      <td>97</td>\n      <td>1.645153e+09</td>\n      <td>1.645153e+09</td>\n      <td>3.070993</td>\n      <td>2.236006</td>\n      <td>@P2_6</td>\n      <td>@P3_5</td>\n      <td>@P1_4</td>\n      <td>0.875</td>\n      <td>0.0625</td>\n      <td>0.0625</td>\n      <td>2</td>\n      <td>3</td>\n      <td>5</td>\n      <td>3.068998</td>\n      <td>False</td>\n      <td>NaN</td>\n    </tr>\n    <tr>\n      <th>3202</th>\n      <td>b9</td>\n      <td>2</td>\n      <td>Scenario 1</td>\n      <td>98</td>\n      <td>1.645153e+09</td>\n      <td>1.645153e+09</td>\n      <td>11.091004</td>\n      <td>6.118001</td>\n      <td>@P2_6</td>\n      <td>@P3_5</td>\n      <td>@P1_4</td>\n      <td>0.875</td>\n      <td>0.0625</td>\n      <td>0.0625</td>\n      <td>1</td>\n      <td>2</td>\n      <td>6</td>\n      <td>4.379003</td>\n      <td>True</td>\n      <td>1.709000</td>\n    </tr>\n    <tr>\n      <th>3203</th>\n      <td>b9</td>\n      <td>2</td>\n      <td>Scenario 1</td>\n      <td>99</td>\n      <td>1.645153e+09</td>\n      <td>1.645153e+09</td>\n      <td>9.316002</td>\n      <td>0.001996</td>\n      <td>@P2_6</td>\n      <td>@P3_5</td>\n      <td>@P1_4</td>\n      <td>0.875</td>\n      <td>0.0625</td>\n      <td>0.0625</td>\n      <td>1</td>\n      <td>2</td>\n      <td>6</td>\n      <td>2.635001</td>\n      <td>True</td>\n      <td>1.678994</td>\n    </tr>\n    <tr>\n      <th>3204</th>\n      <td>b9</td>\n      <td>2</td>\n      <td>Scenario 1</td>\n      <td>100</td>\n      <td>1.645153e+09</td>\n      <td>1.645153e+09</td>\n      <td>2.890996</td>\n      <td>0.139001</td>\n      <td>@P2_6</td>\n      <td>@P3_5</td>\n      <td>@P1_4</td>\n      <td>0.875</td>\n      <td>0.0625</td>\n      <td>0.0625</td>\n      <td>1</td>\n      <td>2</td>\n      <td>6</td>\n      <td>2.887998</td>\n      <td>False</td>\n      <td>NaN</td>\n    </tr>\n  </tbody>\n</table>\n<p>3205 rows × 20 columns</p>\n</div>"
     },
     "execution_count": 14,
     "metadata": {},
     "output_type": "execute_result"
    }
   ],
   "source": [
    "final_output"
   ],
   "metadata": {
    "collapsed": false,
    "pycharm": {
     "name": "#%%\n"
    }
   }
  },
  {
   "cell_type": "code",
   "execution_count": 12,
   "outputs": [
    {
     "data": {
      "text/plain": "0     2021-12-09 18:17:34.713004032\n1     2021-12-09 18:18:09.152001024\n2     2021-12-09 18:18:20.000998144\n3     2021-12-09 18:18:31.470001920\n4     2021-12-09 18:18:52.580002048\n                   ...             \n879   2021-12-10 03:13:08.481003008\n880   2021-12-10 03:13:27.434000128\n881   2021-12-10 03:14:09.270996992\n882   2021-12-10 03:14:29.319997184\n883   2021-12-10 03:15:08.249996032\nName: trialStart, Length: 884, dtype: datetime64[ns]"
     },
     "execution_count": 12,
     "metadata": {},
     "output_type": "execute_result"
    }
   ],
   "source": [
    "pd.to_datetime(final_output['trialStart'], unit='s')"
   ],
   "metadata": {
    "collapsed": false,
    "pycharm": {
     "name": "#%%\n"
    }
   }
  },
  {
   "cell_type": "code",
   "execution_count": 16,
   "outputs": [
    {
     "data": {
      "text/plain": "0      1.638289e+09\n1      1.638289e+09\n2      1.638289e+09\n3      1.638289e+09\n4      1.638289e+09\n           ...     \n484    1.638304e+09\n485    1.638304e+09\n486    1.638304e+09\n487    1.638304e+09\n488    1.638304e+09\nName: trialStart, Length: 489, dtype: float64"
     },
     "execution_count": 16,
     "metadata": {},
     "output_type": "execute_result"
    }
   ],
   "source": [
    "final_output['trialStart']"
   ],
   "metadata": {
    "collapsed": false,
    "pycharm": {
     "name": "#%%\n"
    }
   }
  },
  {
   "cell_type": "code",
   "execution_count": null,
   "outputs": [],
   "source": [],
   "metadata": {
    "collapsed": false,
    "pycharm": {
     "name": "#%%\n"
    }
   }
  }
 ],
 "metadata": {
  "kernelspec": {
   "display_name": "Python 3",
   "language": "python",
   "name": "python3"
  },
  "language_info": {
   "codemirror_mode": {
    "name": "ipython",
    "version": 2
   },
   "file_extension": ".py",
   "mimetype": "text/x-python",
   "name": "python",
   "nbconvert_exporter": "python",
   "pygments_lexer": "ipython2",
   "version": "2.7.6"
  }
 },
 "nbformat": 4,
 "nbformat_minor": 0
}