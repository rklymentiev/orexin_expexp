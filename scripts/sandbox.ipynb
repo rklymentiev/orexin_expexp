{
 "cells": [
  {
   "cell_type": "code",
   "execution_count": 1,
   "metadata": {
    "collapsed": true
   },
   "outputs": [],
   "source": [
    "import os\n",
    "import pandas as pd\n",
    "# import numpy as np\n",
    "from tqdm import tqdm\n",
    "from datetime import datetime, timedelta"
   ]
  },
  {
   "cell_type": "code",
   "execution_count": 2,
   "outputs": [
    {
     "data": {
      "text/plain": "         DateTime     IdRFID IdLabel unitLabel  eventDuration sense1duration  \\\n0      #ID-Device  Sorter1.1       0         0            0.0         Sorter   \n1      #ID-Device  Sorter1.2       0         0            0.0         Sorter   \n2      #ID-Device  Sorter1.3       0         0            0.0         Sorter   \n3         #Sorter    Sorter1     NaN       NaN            NaN            NaN   \n4  #RfidCondition   CondMod1     NaN       NaN            NaN            NaN   \n\n   sense1Events  senseRFIDrecords  reinforce1value  reinforce1Total  \\\n0           NaN               NaN              NaN              NaN   \n1           NaN               NaN              NaN              NaN   \n2           NaN               NaN              NaN              NaN   \n3           NaN               NaN              NaN              NaN   \n4           NaN               NaN              NaN              NaN   \n\n   reinforce1Account outFuncLabel outLabel SystemMsg MsgValue1 MsgValue2  \\\n0                NaN          NaN      NaN       NaN       NaN       NaN   \n1                NaN          NaN      NaN       NaN       NaN       NaN   \n2                NaN          NaN      NaN       NaN       NaN       NaN   \n3                NaN          NaN      NaN       NaN       NaN       NaN   \n4                NaN          NaN      NaN       NaN       NaN       NaN   \n\n  MsgValue3  \n0       NaN  \n1       NaN  \n2       NaN  \n3       NaN  \n4       NaN  ",
      "text/html": "<div>\n<style scoped>\n    .dataframe tbody tr th:only-of-type {\n        vertical-align: middle;\n    }\n\n    .dataframe tbody tr th {\n        vertical-align: top;\n    }\n\n    .dataframe thead th {\n        text-align: right;\n    }\n</style>\n<table border=\"1\" class=\"dataframe\">\n  <thead>\n    <tr style=\"text-align: right;\">\n      <th></th>\n      <th>DateTime</th>\n      <th>IdRFID</th>\n      <th>IdLabel</th>\n      <th>unitLabel</th>\n      <th>eventDuration</th>\n      <th>sense1duration</th>\n      <th>sense1Events</th>\n      <th>senseRFIDrecords</th>\n      <th>reinforce1value</th>\n      <th>reinforce1Total</th>\n      <th>reinforce1Account</th>\n      <th>outFuncLabel</th>\n      <th>outLabel</th>\n      <th>SystemMsg</th>\n      <th>MsgValue1</th>\n      <th>MsgValue2</th>\n      <th>MsgValue3</th>\n    </tr>\n  </thead>\n  <tbody>\n    <tr>\n      <th>0</th>\n      <td>#ID-Device</td>\n      <td>Sorter1.1</td>\n      <td>0</td>\n      <td>0</td>\n      <td>0.0</td>\n      <td>Sorter</td>\n      <td>NaN</td>\n      <td>NaN</td>\n      <td>NaN</td>\n      <td>NaN</td>\n      <td>NaN</td>\n      <td>NaN</td>\n      <td>NaN</td>\n      <td>NaN</td>\n      <td>NaN</td>\n      <td>NaN</td>\n      <td>NaN</td>\n    </tr>\n    <tr>\n      <th>1</th>\n      <td>#ID-Device</td>\n      <td>Sorter1.2</td>\n      <td>0</td>\n      <td>0</td>\n      <td>0.0</td>\n      <td>Sorter</td>\n      <td>NaN</td>\n      <td>NaN</td>\n      <td>NaN</td>\n      <td>NaN</td>\n      <td>NaN</td>\n      <td>NaN</td>\n      <td>NaN</td>\n      <td>NaN</td>\n      <td>NaN</td>\n      <td>NaN</td>\n      <td>NaN</td>\n    </tr>\n    <tr>\n      <th>2</th>\n      <td>#ID-Device</td>\n      <td>Sorter1.3</td>\n      <td>0</td>\n      <td>0</td>\n      <td>0.0</td>\n      <td>Sorter</td>\n      <td>NaN</td>\n      <td>NaN</td>\n      <td>NaN</td>\n      <td>NaN</td>\n      <td>NaN</td>\n      <td>NaN</td>\n      <td>NaN</td>\n      <td>NaN</td>\n      <td>NaN</td>\n      <td>NaN</td>\n      <td>NaN</td>\n    </tr>\n    <tr>\n      <th>3</th>\n      <td>#Sorter</td>\n      <td>Sorter1</td>\n      <td>NaN</td>\n      <td>NaN</td>\n      <td>NaN</td>\n      <td>NaN</td>\n      <td>NaN</td>\n      <td>NaN</td>\n      <td>NaN</td>\n      <td>NaN</td>\n      <td>NaN</td>\n      <td>NaN</td>\n      <td>NaN</td>\n      <td>NaN</td>\n      <td>NaN</td>\n      <td>NaN</td>\n      <td>NaN</td>\n    </tr>\n    <tr>\n      <th>4</th>\n      <td>#RfidCondition</td>\n      <td>CondMod1</td>\n      <td>NaN</td>\n      <td>NaN</td>\n      <td>NaN</td>\n      <td>NaN</td>\n      <td>NaN</td>\n      <td>NaN</td>\n      <td>NaN</td>\n      <td>NaN</td>\n      <td>NaN</td>\n      <td>NaN</td>\n      <td>NaN</td>\n      <td>NaN</td>\n      <td>NaN</td>\n      <td>NaN</td>\n      <td>NaN</td>\n    </tr>\n  </tbody>\n</table>\n</div>"
     },
     "execution_count": 2,
     "metadata": {},
     "output_type": "execute_result"
    }
   ],
   "source": [
    "input_df = pd.read_csv(\n",
    "    '../sample_data/MAB_test_run_G5-G8_204080-21.11.30 - Copy.csv',\n",
    "    encoding=\"utf_16\",\n",
    "    sep=';'\n",
    ")\n",
    "input_df.head()"
   ],
   "metadata": {
    "collapsed": false,
    "pycharm": {
     "name": "#%%\n"
    }
   }
  },
  {
   "cell_type": "code",
   "execution_count": 3,
   "outputs": [],
   "source": [
    "def initial_cleaning(input_df):\n",
    "    # sort the values since for some reason observations sometimes mixed in time\n",
    "    input_df['DateTime'] = input_df['DateTime'].astype(float)\n",
    "    input_df.sort_values(by='DateTime', inplace=True)\n",
    "    input_df.reset_index(drop=True, inplace=True)\n",
    "\n",
    "    # some datetime manipulations\n",
    "    input_df['Timestamp'] = input_df['DateTime'].apply(lambda x: datetime.timestamp(from_ordinal(x)))\n",
    "    input_df['DateTime'] = input_df['Timestamp'].apply(lambda x: datetime.fromtimestamp(x))\n",
    "\n",
    "    return input_df\n",
    "\n",
    "\n",
    "def from_ordinal(ordinal, _epoch=datetime(1899, 12, 30)):\n",
    "    \"\"\"Converts serial date-time to DateTime object.\n",
    "    Parameters\n",
    "    ----------\n",
    "    ordinal : float or int\n",
    "        Original serial date-time.\n",
    "    _epoch : datetime\n",
    "        Start of the count.\n",
    "        NOTE: for some reason timestamp is shifted by 2 days\n",
    "        backwards from 01-01-1900, that is why default value\n",
    "        is set to 30-12-1899.\n",
    "    \"\"\"\n",
    "    return _epoch + timedelta(days=ordinal)"
   ],
   "metadata": {
    "collapsed": false,
    "pycharm": {
     "name": "#%%\n"
    }
   }
  },
  {
   "cell_type": "code",
   "execution_count": 4,
   "outputs": [],
   "source": [
    "input_df = input_df[~input_df['DateTime'].astype(str).apply(lambda x: x.startswith('#'))]"
   ],
   "metadata": {
    "collapsed": false,
    "pycharm": {
     "name": "#%%\n"
    }
   }
  },
  {
   "cell_type": "code",
   "execution_count": 5,
   "outputs": [],
   "source": [
    "input_df = initial_cleaning(input_df)"
   ],
   "metadata": {
    "collapsed": false,
    "pycharm": {
     "name": "#%%\n"
    }
   }
  },
  {
   "cell_type": "code",
   "execution_count": 6,
   "outputs": [
    {
     "data": {
      "text/plain": "{'G7': '041A7166B9',\n 'G5': '041A717119',\n 'G6': '041A7170F1',\n 'G8': '041A71661F'}"
     },
     "execution_count": 6,
     "metadata": {},
     "output_type": "execute_result"
    }
   ],
   "source": [
    "ids = input_df['IdLabel'][~input_df['IdLabel'].isnull()].unique()\n",
    "ids.sort()\n",
    "ids_dict = dict(input_df[['IdLabel','IdRFID']].drop_duplicates().dropna().values)\n",
    "ids_dict"
   ],
   "metadata": {
    "collapsed": false,
    "pycharm": {
     "name": "#%%\n"
    }
   }
  },
  {
   "cell_type": "code",
   "execution_count": 7,
   "outputs": [
    {
     "name": "stderr",
     "output_type": "stream",
     "text": [
      "100%|██████████| 4/4 [00:00<00:00,  5.71it/s]\n"
     ]
    }
   ],
   "source": [
    "final_output = pd.DataFrame({})\n",
    "\n",
    "for animal_id in tqdm(ids):\n",
    "    indices_start = input_df[(input_df['IdLabel'] == animal_id) & (input_df['SystemMsg'] == 'start exp')].index\n",
    "    indices_end = input_df[(input_df['IdLabel'] == animal_id) & (input_df['SystemMsg'] == 'end exp')].index\n",
    "\n",
    "    for session_i in range(len(indices_start)):\n",
    "        ind_start = indices_start[session_i]\n",
    "        ind_end = indices_end[session_i]\n",
    "        subj_data = input_df.iloc[ind_start:ind_end+1, :].reset_index(drop=True)\n",
    "\n",
    "        cndtn = subj_data['SystemMsg'].apply(\n",
    "            lambda x: x.startswith('start trial') if type(x) == str else False)\n",
    "        total_trials = subj_data['SystemMsg'][cndtn].apply(lambda x: int(x.split(' ')[2])).max()\n",
    "        total_outcomes = (subj_data['SystemMsg'] == 'Reward?').sum()\n",
    "\n",
    "        wait_poke_ts = subj_data['Timestamp'][subj_data['SystemMsg'] == 'wait poke']\\\n",
    "            .reset_index(drop=True)\n",
    "\n",
    "        trial_start_ts = subj_data['Timestamp'][cndtn]\\\n",
    "            .reset_index(drop=True)\n",
    "        trial_start_ts.name = 'trialStart'\n",
    "\n",
    "        trial_end_ts = subj_data['Timestamp'][subj_data['SystemMsg'] == 'start iti']\\\n",
    "            .reset_index(drop=True)\n",
    "        if len(trial_start_ts) != len(trial_end_ts):\n",
    "            trial_end_ts = trial_end_ts.append(\n",
    "                pd.Series(\n",
    "                    subj_data['Timestamp'][subj_data['SystemMsg'] == 'end exp']\n",
    "                ),\n",
    "                ignore_index=True)\n",
    "        trial_end_ts.name = 'trialEnd'\n",
    "\n",
    "        if len(wait_poke_ts) != len(trial_start_ts):\n",
    "            wait_poke_ts = wait_poke_ts[:len(wait_poke_ts)-1]\n",
    "\n",
    "        start_latency = trial_start_ts - wait_poke_ts\n",
    "        start_latency.name = 'startLatency'\n",
    "\n",
    "        trial_duration = trial_end_ts - trial_start_ts\n",
    "        trial_duration.name = 'trialDuration'\n",
    "\n",
    "        decision = subj_data['MsgValue1'][subj_data['SystemMsg'] == 'decision:']\\\n",
    "            .reset_index(drop=True)\n",
    "        decision_n = decision.apply(lambda x: x.split(' ')[1])\n",
    "        decision_n.name = 'decisionNumber'\n",
    "        decision_pos = decision.apply(lambda x: x.split(' ')[2][2])\n",
    "        decision_pos.name = 'decisionPosition'\n",
    "        decision_img = decision.apply(lambda x: x.split(' ')[2][4])\n",
    "        decision_img.name = 'decisionImage'\n",
    "\n",
    "        decision_ts = subj_data['Timestamp'][subj_data['SystemMsg'] == 'decision:']\\\n",
    "            .reset_index(drop=True)\n",
    "        decision_latency = decision_ts - trial_start_ts\n",
    "        decision_latency.name = 'decisionLatency'\n",
    "\n",
    "        reward = subj_data['MsgValue1'][subj_data['SystemMsg'] == 'Reward?']\\\n",
    "            .reset_index(drop=True)\n",
    "        reward.name = 'reward'\n",
    "        reward = reward == 'True'\n",
    "\n",
    "        reward_ready_ts = subj_data['Timestamp'][subj_data['SystemMsg'] == 'reward ready']\\\n",
    "            .reset_index(drop=True)\n",
    "\n",
    "        reward_collected_ts = subj_data['Timestamp'][subj_data['SystemMsg'] == 'reward collected']\\\n",
    "            .reset_index(drop=True)\n",
    "\n",
    "        reward_latency = reward_collected_ts - reward_ready_ts\n",
    "        reward_latency.index = reward[reward == True].index\n",
    "        reward_latency.name = 'rewardLatency'\n",
    "\n",
    "        session_out = pd.concat(\n",
    "            [trial_start_ts, trial_end_ts, trial_duration, start_latency,\n",
    "             decision_n, decision_pos, decision_img, decision_latency, reward],\n",
    "            axis=1)\n",
    "        session_out = session_out.join(reward_latency)\n",
    "\n",
    "        if total_trials != total_outcomes:\n",
    "            session_out = session_out.iloc[:total_trials-1, :]\n",
    "\n",
    "        session_out['trial'] = session_out.index + 1\n",
    "        session_out['animalID'] = animal_id\n",
    "        session_out['session'] = session_i + 1\n",
    "\n",
    "        final_output = final_output.append(session_out).reset_index(drop=True)"
   ],
   "metadata": {
    "collapsed": false,
    "pycharm": {
     "name": "#%%\n"
    }
   }
  },
  {
   "cell_type": "code",
   "execution_count": 8,
   "outputs": [],
   "source": [
    "final_output = final_output[[\n",
    "    'animalID', 'session', 'trial', 'trialStart', 'trialEnd', 'trialDuration',\n",
    "    'startLatency', 'decisionNumber', 'decisionPosition', 'decisionImage', 'decisionLatency',\n",
    "    'reward', 'rewardLatency'\n",
    "]]"
   ],
   "metadata": {
    "collapsed": false,
    "pycharm": {
     "name": "#%%\n"
    }
   }
  },
  {
   "cell_type": "code",
   "execution_count": 15,
   "outputs": [
    {
     "data": {
      "text/plain": "0     2021-11-30 16:15:32.404000000\n1     2021-11-30 16:16:01.759998976\n2     2021-11-30 16:16:34.412002048\n3     2021-11-30 16:17:09.381001984\n4     2021-11-30 16:17:30.321000960\n                   ...             \n484   2021-11-30 20:26:33.989996800\n485   2021-11-30 20:26:46.581000192\n486   2021-11-30 20:27:20.651000064\n487   2021-11-30 20:27:38.241003008\n488   2021-11-30 20:27:53.345001984\nName: trialStart, Length: 489, dtype: datetime64[ns]"
     },
     "execution_count": 15,
     "metadata": {},
     "output_type": "execute_result"
    }
   ],
   "source": [
    "pd.to_datetime(final_output['trialStart'], unit='s')"
   ],
   "metadata": {
    "collapsed": false,
    "pycharm": {
     "name": "#%%\n"
    }
   }
  },
  {
   "cell_type": "code",
   "execution_count": 16,
   "outputs": [
    {
     "data": {
      "text/plain": "0      1.638289e+09\n1      1.638289e+09\n2      1.638289e+09\n3      1.638289e+09\n4      1.638289e+09\n           ...     \n484    1.638304e+09\n485    1.638304e+09\n486    1.638304e+09\n487    1.638304e+09\n488    1.638304e+09\nName: trialStart, Length: 489, dtype: float64"
     },
     "execution_count": 16,
     "metadata": {},
     "output_type": "execute_result"
    }
   ],
   "source": [
    "final_output['trialStart']"
   ],
   "metadata": {
    "collapsed": false,
    "pycharm": {
     "name": "#%%\n"
    }
   }
  },
  {
   "cell_type": "code",
   "execution_count": null,
   "outputs": [],
   "source": [],
   "metadata": {
    "collapsed": false,
    "pycharm": {
     "name": "#%%\n"
    }
   }
  }
 ],
 "metadata": {
  "kernelspec": {
   "display_name": "Python 3",
   "language": "python",
   "name": "python3"
  },
  "language_info": {
   "codemirror_mode": {
    "name": "ipython",
    "version": 2
   },
   "file_extension": ".py",
   "mimetype": "text/x-python",
   "name": "python",
   "nbconvert_exporter": "python",
   "pygments_lexer": "ipython2",
   "version": "2.7.6"
  }
 },
 "nbformat": 4,
 "nbformat_minor": 0
}