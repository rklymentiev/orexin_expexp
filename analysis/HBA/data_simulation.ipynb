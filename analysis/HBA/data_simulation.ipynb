{
 "cells": [
  {
   "cell_type": "code",
   "execution_count": 1,
   "metadata": {
    "collapsed": true
   },
   "outputs": [],
   "source": [
    "import numpy as np\n",
    "from scipy.special import softmax, log_softmax\n",
    "import matplotlib.pyplot as plt\n",
    "import seaborn as sns\n",
    "from tqdm import tqdm\n",
    "import pandas as pd"
   ]
  },
  {
   "cell_type": "code",
   "execution_count": 8,
   "outputs": [],
   "source": [
    "def generate_agent_data(alpha, beta, rew_prob, n_trials=100):\n",
    "\n",
    "    n_arms = len(rew_prob)\n",
    "    actions = np.zeros(shape=(n_trials,), dtype=np.int32)\n",
    "    reward = np.zeros(shape=(n_trials,), dtype=np.int32)\n",
    "\n",
    "    Qs = np.zeros(shape=(n_trials, n_arms))\n",
    "    Qs[0] = np.ones(shape=(n_arms,)) / n_arms\n",
    "\n",
    "    for i in range(n_trials):\n",
    "\n",
    "        # choose the action based of softmax function\n",
    "        prob_a = softmax(beta*Qs[i])\n",
    "        a = np.random.choice(a=range(n_arms), p=prob_a) # select the action\n",
    "        # list of actions that were not selected\n",
    "        a_left = list(range(n_arms))\n",
    "        a_left.remove(a)\n",
    "\n",
    "        # reward\n",
    "        if np.random.rand() < rew_prob[a]: # if arm brings reward\n",
    "            r = 1\n",
    "        else:\n",
    "            r = 0\n",
    "\n",
    "        reward[i] = r\n",
    "        actions[i] = a\n",
    "\n",
    "        if i < n_trials-1:\n",
    "            # value function update for a chosen arm\n",
    "            Qs[i+1, a] = Qs[i, a] + alpha * (r - Qs[i, a])\n",
    "            # value function update for non-chosen arms\n",
    "            for a_l in a_left:\n",
    "                Qs[i+1, a_l] = Qs[i, a_l]\n",
    "\n",
    "    return actions, reward, Qs"
   ],
   "metadata": {
    "collapsed": false,
    "pycharm": {
     "name": "#%%\n"
    }
   }
  },
  {
   "cell_type": "code",
   "execution_count": 27,
   "outputs": [],
   "source": [
    "np.random.seed(2)\n",
    "agent_data = pd.DataFrame()\n",
    "true_params = {}\n",
    "\n",
    "for subj in range(1, 11):\n",
    "\n",
    "    true_params[subj] = {}\n",
    "\n",
    "    alpha = np.random.randint(low=20, high=60) / 100 # RV in [0.3, 0.5]\n",
    "    beta = np.random.randint(low=1, high=60) / 10 # RV in [0.1, 8]\n",
    "    n_trials = np.random.randint(low=200, high=250)\n",
    "\n",
    "    actions, reward, Qs = generate_agent_data(\n",
    "        alpha=alpha,\n",
    "        beta=beta,\n",
    "        rew_prob=[0.2, 0.8],\n",
    "        n_trials=n_trials)\n",
    "\n",
    "    # add generated data to temporary data frame\n",
    "    temp_df = pd.DataFrame({\n",
    "        'subjID': subj, 'trial': range(1, n_trials+1),\n",
    "        'choice': actions, 'reward': reward})\n",
    "\n",
    "    agent_data = agent_data.append(temp_df)\n",
    "\n",
    "    # update dictionary with true parameter values\n",
    "    true_params[subj]['alpha'] = alpha\n",
    "    true_params[subj]['beta'] = beta"
   ],
   "metadata": {
    "collapsed": false,
    "pycharm": {
     "name": "#%%\n"
    }
   }
  },
  {
   "cell_type": "code",
   "execution_count": 28,
   "outputs": [
    {
     "data": {
      "text/plain": "   subjID  alpha  beta\n0       1   0.35   4.6\n1       2   0.22   3.3\n2       3   0.29   2.4\n3       4   0.55   5.9\n4       5   0.30   4.3",
      "text/html": "<div>\n<style scoped>\n    .dataframe tbody tr th:only-of-type {\n        vertical-align: middle;\n    }\n\n    .dataframe tbody tr th {\n        vertical-align: top;\n    }\n\n    .dataframe thead th {\n        text-align: right;\n    }\n</style>\n<table border=\"1\" class=\"dataframe\">\n  <thead>\n    <tr style=\"text-align: right;\">\n      <th></th>\n      <th>subjID</th>\n      <th>alpha</th>\n      <th>beta</th>\n    </tr>\n  </thead>\n  <tbody>\n    <tr>\n      <th>0</th>\n      <td>1</td>\n      <td>0.35</td>\n      <td>4.6</td>\n    </tr>\n    <tr>\n      <th>1</th>\n      <td>2</td>\n      <td>0.22</td>\n      <td>3.3</td>\n    </tr>\n    <tr>\n      <th>2</th>\n      <td>3</td>\n      <td>0.29</td>\n      <td>2.4</td>\n    </tr>\n    <tr>\n      <th>3</th>\n      <td>4</td>\n      <td>0.55</td>\n      <td>5.9</td>\n    </tr>\n    <tr>\n      <th>4</th>\n      <td>5</td>\n      <td>0.30</td>\n      <td>4.3</td>\n    </tr>\n  </tbody>\n</table>\n</div>"
     },
     "execution_count": 28,
     "metadata": {},
     "output_type": "execute_result"
    }
   ],
   "source": [
    "true_params_df = pd.DataFrame(true_params).T.reset_index(drop=False)\n",
    "true_params_df.rename(columns={'index': 'subjID'}, inplace=True)\n",
    "true_params_df.head()"
   ],
   "metadata": {
    "collapsed": false,
    "pycharm": {
     "name": "#%%\n"
    }
   }
  },
  {
   "cell_type": "code",
   "execution_count": 29,
   "outputs": [
    {
     "data": {
      "text/plain": "<Figure size 720x360 with 2 Axes>",
      "image/png": "[encoded data removed]"
     },
     "metadata": {},
     "output_type": "display_data"
    }
   ],
   "source": [
    "plt.figure(figsize=(10,5))\n",
    "plt.subplot(121)\n",
    "sns.boxplot(y=\"alpha\", data=true_params_df)\n",
    "sns.swarmplot(y=\"alpha\", data=true_params_df, color=\".25\")\n",
    "plt.title('alpha')\n",
    "\n",
    "plt.subplot(122)\n",
    "sns.boxplot(y=\"beta\", data=true_params_df)\n",
    "sns.swarmplot(y=\"beta\", data=true_params_df, color=\".25\")\n",
    "plt.title('beta')\n",
    "\n",
    "plt.show()"
   ],
   "metadata": {
    "collapsed": false,
    "pycharm": {
     "name": "#%%\n"
    }
   }
  },
  {
   "cell_type": "code",
   "execution_count": 30,
   "outputs": [],
   "source": [
    "agent_data.to_csv(\"sample_data/agent_data.csv\", index=False)\n",
    "true_params_df.to_csv(\"sample_data/true_params.csv\", index=False)"
   ],
   "metadata": {
    "collapsed": false,
    "pycharm": {
     "name": "#%%\n"
    }
   }
  },
  {
   "cell_type": "code",
   "execution_count": null,
   "outputs": [],
   "source": [],
   "metadata": {
    "collapsed": false,
    "pycharm": {
     "name": "#%%\n"
    }
   }
  }
 ],
 "metadata": {
  "kernelspec": {
   "display_name": "Python 3",
   "language": "python",
   "name": "python3"
  },
  "language_info": {
   "codemirror_mode": {
    "name": "ipython",
    "version": 2
   },
   "file_extension": ".py",
   "mimetype": "text/x-python",
   "name": "python",
   "nbconvert_exporter": "python",
   "pygments_lexer": "ipython2",
   "version": "2.7.6"
  }
 },
 "nbformat": 4,
 "nbformat_minor": 0
}